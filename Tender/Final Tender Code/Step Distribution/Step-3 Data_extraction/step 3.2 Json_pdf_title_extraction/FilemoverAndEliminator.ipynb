{
 "cells": [
  {
   "cell_type": "code",
   "execution_count": 1,
   "metadata": {},
   "outputs": [
    {
     "name": "stdout",
     "output_type": "stream",
     "text": [
      "File not found: file1064.pdf\n",
      "File not found: file1119.pdf\n",
      "File not found: file1219.pdf\n",
      "File not found: file1371.pdf\n",
      "File not found: file1398.pdf\n",
      "File not found: file152.pdf\n",
      "File not found: file1530.pdf\n",
      "File not found: file168.pdf\n",
      "File not found: file1898.pdf\n",
      "File not found: file1948.pdf\n",
      "File not found: file1952.pdf\n",
      "File not found: file1964.pdf\n",
      "File not found: file1999.pdf\n",
      "File not found: file2046.pdf\n",
      "File not found: file2053.pdf\n",
      "File not found: file2074.pdf\n",
      "File not found: file2079.pdf\n",
      "File not found: file2084.pdf\n",
      "File not found: file2114.pdf\n",
      "File not found: file2148.pdf\n",
      "File not found: file2149.pdf\n",
      "File not found: file2179.pdf\n",
      "File not found: file2180.pdf\n",
      "File not found: file2181.pdf\n",
      "File not found: file2185.pdf\n",
      "File not found: file2216.pdf\n",
      "File not found: file2222.pdf\n",
      "File not found: file2227.pdf\n",
      "File not found: file2228.pdf\n",
      "File not found: file2243.pdf\n",
      "File not found: file2347.pdf\n",
      "File not found: file2349.pdf\n",
      "File not found: file2350.pdf\n",
      "File not found: file2351.pdf\n",
      "File not found: file2359.pdf\n",
      "File not found: file265.pdf\n",
      "File not found: file314.pdf\n",
      "File not found: file5.pdf\n",
      "File not found: file646.pdf\n",
      "File not found: file797.pdf\n",
      "File not found: file927.pdf\n",
      "File not found: file948.pdf\n"
     ]
    }
   ],
   "source": [
    "import os\n",
    "import shutil\n",
    "import pandas as pd\n",
    "\n",
    "# Load the removed entries DataFrame\n",
    "removed_entries = pd.read_html('removed_entries.html')[0]  # Adjust this line based on your method of loading DataFrame\n",
    "\n",
    "# Define the source and destination directories\n",
    "source_directory = r\"D:\\Swapnil's personal space\\Research\\System And Contextual information integration- Scii\\Final Tender Code\\Data collection\\Step-3 Data_extraction\\Pdf_text_extraction\\Tender documents\"\n",
    "destination_directory = r\"D:\\Swapnil's personal space\\Research\\System And Contextual information integration- Scii\\Final Tender Code\\Data collection\\Step-2 Doc -collection with Filtered Links\\2.2 Data filteration\\not_needed_tender_files\\Final file removal\"\n",
    "\n",
    "# Move files listed in removed_entries\n",
    "for file_name in removed_entries['file_name']:\n",
    "    source_file_path = os.path.join(source_directory, file_name)\n",
    "    destination_file_path = os.path.join(destination_directory, file_name)\n",
    "    \n",
    "    # Check if the file exists before moving\n",
    "    if os.path.exists(source_file_path):\n",
    "        shutil.move(source_file_path, destination_file_path)\n",
    "        print(f\"Moved: {file_name}\")\n",
    "    else:\n",
    "        print(f\"File not found: {file_name}\")\n"
   ]
  },
  {
   "cell_type": "code",
   "execution_count": 2,
   "metadata": {},
   "outputs": [
    {
     "name": "stdout",
     "output_type": "stream",
     "text": [
      "Removed entries from JSON file and updated successfully.\n"
     ]
    }
   ],
   "source": [
    "import pandas as pd \n",
    "import json\n",
    "# Load the JSON file into a DataFrame\n",
    "json_file_path = r\"Extraction\\tender_titles.json\"  # Adjust the path as necessary\n",
    "with open(json_file_path, 'r') as f:\n",
    "    json_data = json.load(f)\n",
    "\n",
    "# Convert the JSON data to a DataFrame\n",
    "json_df = pd.DataFrame(json_data)\n",
    "\n",
    "# Filter out the entries in the JSON DataFrame based on the removed entries\n",
    "json_df = json_df[~json_df['file_name'].isin(removed_entries['file_name'])]\n",
    "\n",
    "# Convert the updated DataFrame back to a JSON format\n",
    "updated_json_data = json_df.to_dict(orient='records')\n",
    "\n",
    "# Save the updated data back to the JSON file\n",
    "with open(json_file_path, 'w') as f:\n",
    "    json.dump(updated_json_data, f, indent=4)\n",
    "\n",
    "print(\"Removed entries from JSON file and updated successfully.\")"
   ]
  }
 ],
 "metadata": {
  "kernelspec": {
   "display_name": "Python 3",
   "language": "python",
   "name": "python3"
  },
  "language_info": {
   "codemirror_mode": {
    "name": "ipython",
    "version": 3
   },
   "file_extension": ".py",
   "mimetype": "text/x-python",
   "name": "python",
   "nbconvert_exporter": "python",
   "pygments_lexer": "ipython3",
   "version": "3.12.5"
  }
 },
 "nbformat": 4,
 "nbformat_minor": 2
}
