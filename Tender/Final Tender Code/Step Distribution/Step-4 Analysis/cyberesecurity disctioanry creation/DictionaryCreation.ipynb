{
 "cells": [
  {
   "cell_type": "code",
   "execution_count": 3,
   "metadata": {},
   "outputs": [],
   "source": [
    "import requests\n",
    "from requests.exceptions import RequestException\n",
    "from bs4 import BeautifulSoup\n",
    "import os\n",
    "\n",
    "url = \"https://www.globalknowledge.com/us-en/topics/cybersecurity/glossary-of-terms/#:~:text=OWASP%20(Open%20Web%20Application%20Security,defensive%20programming%2C%20design%20and%20configuration.\"\n",
    "\n",
    "# Make the request - note that we use requests.get() directly with the URL string\n",
    "response = requests.get(url, timeout=10)\n",
    "        \n",
    "# Raise an exception for bad status codes\n",
    "response.raise_for_status()\n",
    "        \n",
    "# Get the raw HTML\n",
    "raw_html = response.text\n",
    "        \n",
    "# Create BeautifulSoup object\n",
    "soup = BeautifulSoup(raw_html, 'html.parser')\n",
    "\n",
    "# Now you can work with the soup object to parse the HTML"
   ]
  },
  {
   "cell_type": "code",
   "execution_count": 6,
   "metadata": {},
   "outputs": [
    {
     "name": "stdout",
     "output_type": "stream",
     "text": [
      "Keywords extracted and saved to keywords.json\n"
     ]
    }
   ],
   "source": [
    "import json\n",
    "from selenium import webdriver\n",
    "from selenium.webdriver.common.by import By\n",
    "from selenium.webdriver.chrome.service import Service\n",
    "from selenium.webdriver.chrome.options import Options\n",
    "from webdriver_manager.chrome import ChromeDriverManager  # Import ChromeDriverManager\n",
    "\n",
    "# Setup Chrome WebDriver using ChromeDriverManager\n",
    "chrome_options = Options()\n",
    "chrome_options.add_argument(\"--headless\")  # Run in headless mode\n",
    "\n",
    "# Automatically download and configure ChromeDriver\n",
    "service = Service(ChromeDriverManager().install())\n",
    "driver = webdriver.Chrome(service=service, options=chrome_options)\n",
    "\n",
    "# Open the URL\n",
    "url = \"https://www.globalknowledge.com/us-en/topics/cybersecurity/glossary-of-terms/#:~:text=OWASP%20(Open%20Web%20Application%20Security,defensive%20programming%2C%20design%20and%20configuration.\"\n",
    "driver.get(url)\n",
    "\n",
    "# Find all <p> tags that have a nested <strong> tag at the beginning\n",
    "p_tags = driver.find_elements(By.XPATH, \"//p[strong]\")\n",
    "\n",
    "# Extract the keywords inside the <strong> tag\n",
    "keywords = []\n",
    "for p_tag in p_tags:\n",
    "    strong_tag = p_tag.find_element(By.TAG_NAME, 'strong')\n",
    "    keyword = strong_tag.text.strip()  # Extract and clean up the keyword\n",
    "    if keyword:  # Ensure the keyword is not empty\n",
    "        keywords.append(keyword)\n",
    "\n",
    "# Save the keywords to a JSON file\n",
    "output_file = \"keywords.json\"\n",
    "with open(output_file, \"w\") as json_file:\n",
    "    json.dump(keywords, json_file, indent=4)\n",
    "\n",
    "# Close the browser\n",
    "driver.quit()\n",
    "\n",
    "print(f\"Keywords extracted and saved to {output_file}\")\n"
   ]
  }
 ],
 "metadata": {
  "kernelspec": {
   "display_name": "Python 3",
   "language": "python",
   "name": "python3"
  },
  "language_info": {
   "codemirror_mode": {
    "name": "ipython",
    "version": 3
   },
   "file_extension": ".py",
   "mimetype": "text/x-python",
   "name": "python",
   "nbconvert_exporter": "python",
   "pygments_lexer": "ipython3",
   "version": "3.12.5"
  }
 },
 "nbformat": 4,
 "nbformat_minor": 2
}
