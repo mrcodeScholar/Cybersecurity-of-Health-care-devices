{
 "cells": [
  {
   "cell_type": "code",
   "execution_count": 1,
   "metadata": {},
   "outputs": [
    {
     "name": "stderr",
     "output_type": "stream",
     "text": [
      "incorrect startxref pointer(1)\n"
     ]
    },
    {
     "name": "stdout",
     "output_type": "stream",
     "text": [
      "Total PDFs with matching text files: 760\n",
      "Total PDFs without matching text files: 1\n",
      "        file_name                                            content  \\\n",
      "0      file10.pdf  Tender For Fundus Fluorescein angiography with...   \n",
      "1     file100.pdf  Tender For Auto Transfusion Machine (Cell Save...   \n",
      "2    file1000.pdf  Tender No. AIIMS/R/CS/Neuro/1173/23/ GTE 1 vf[...   \n",
      "3    file1001.pdf  GTE No.: AIIMS/ R/CS/ URO/22/17/GT Page 1 of 7...   \n",
      "4    file1002.pdf  Tender No. AIIMS/R/CS/ ENT /1158 /22/ GTE /A 1...   \n",
      "..            ...                                                ...   \n",
      "755   file992.pdf  Tender No. AIIMS/R/CS/SG/Ech/1/8/2022/GTE 1 vf...   \n",
      "756   file993.pdf  Tender No. AIIMS/R/CS/ OBGY /6795/2023/ GTE 1 ...   \n",
      "757   file995.pdf  Tender No. AIIMS/R/CS/ Sur_Gastro/ Laproscopic...   \n",
      "758   file997.pdf  Tender No. AIIMS/R/CS/ 4007/PHY PMR /23/ GTE /...   \n",
      "759   file998.pdf  Tender No. AIIMS/R/CS/ Neuro /ICP/244/ GTE 1 v...   \n",
      "\n",
      "                               technical_specification  \n",
      "0    --- Page 10 ---\\nTender for Fundus Fluorescein...  \n",
      "1    --- Page 11 ---\\nTender for Auto Transfusion M...  \n",
      "2    --- Page 45 ---\\n                             ...  \n",
      "3    --- Page 39 ---\\n \\n \\nGTE No.: AIIMS/ R/CS/UR...  \n",
      "4    --- Page 45 ---\\n                             ...  \n",
      "..                                                 ...  \n",
      "755  --- Page 45 ---\\n                             ...  \n",
      "756  --- Page 39 ---\\n \\n \\nTender No. AIIMS/R/CS/O...  \n",
      "757  --- Page 45 ---\\n                             ...  \n",
      "758  --- Page 62 ---\\n \\n \\n \\nSECTION – VII \\nTECH...  \n",
      "759  --- Page 45 ---\\n                             ...  \n",
      "\n",
      "[760 rows x 3 columns]\n"
     ]
    }
   ],
   "source": [
    "import os\n",
    "import pandas as pd\n",
    "import PyPDF2\n",
    "import re\n",
    "\n",
    "# Paths\n",
    "pdf_folder = r\"D:\\Swapnil's personal space\\Research\\System And Contextual information integration- Scii\\Final Tender Code\\Step Distribution\\Step-3 Data_extraction\\Step 3.1 Pdf_text_extraction\\Technical specification extraction\\pdf processed\"\n",
    "technical_doc_folder = r\"D:\\Swapnil's personal space\\Research\\System And Contextual information integration- Scii\\Final Tender Code\\Step Distribution\\Step-3 Data_extraction\\Step 3.1 Pdf_text_extraction\\Technical specification extraction\\technical doc\"\n",
    "\n",
    "# Function to extract PDF content\n",
    "def extract_pdf_content(pdf_path):\n",
    "    content = \"\"\n",
    "    with open(pdf_path, 'rb') as file:\n",
    "        reader = PyPDF2.PdfReader(file)\n",
    "        for page in reader.pages:\n",
    "            text = page.extract_text()\n",
    "            text = re.sub(r'[\\u0900-\\u097F]+', '', text)\n",
    "                \n",
    "            # Remove patterns like (cid:7414) along with the parentheses\n",
    "            text = re.sub(r'\\s*\\(cid:\\d+\\)\\s*', '', text)\n",
    "\n",
    "            # Optionally, remove extra spaces left after cleaning\n",
    "            text = re.sub(r'\\s+', ' ', text).strip()\n",
    "\n",
    "            content += text\n",
    "            \n",
    "    return content\n",
    "\n",
    "# Get list of all PDF files and text files upfront\n",
    "pdf_files = [f for f in os.listdir(pdf_folder) if f.endswith('.pdf')]\n",
    "text_files = {f.replace('_tech_specs.txt', ''): f for f in os.listdir(technical_doc_folder)}\n",
    "\n",
    "# Collect data\n",
    "data = []\n",
    "pdfs_with_matching_text_files = 0\n",
    "missing_text_files = 0\n",
    "\n",
    "for file_name in pdf_files:\n",
    "    pdf_path = os.path.join(pdf_folder, file_name)\n",
    "    base_name = file_name.replace('.pdf', '')\n",
    "    \n",
    "    # Check if corresponding text file exists in the preloaded dictionary\n",
    "    if base_name in text_files:\n",
    "        text_file_path = os.path.join(technical_doc_folder, text_files[base_name])\n",
    "        pdfs_with_matching_text_files += 1\n",
    "\n",
    "        # Read technical specification\n",
    "        with open(text_file_path, 'r', encoding='utf-8') as text_file:\n",
    "            technical_spec = text_file.read()\n",
    "\n",
    "        # Extract PDF content\n",
    "        pdf_content = extract_pdf_content(pdf_path)\n",
    "\n",
    "        # Append to data\n",
    "        data.append({\n",
    "            'file_name': file_name,\n",
    "            'content': pdf_content,\n",
    "            'technical_specification': technical_spec\n",
    "        })\n",
    "    else:\n",
    "        missing_text_files += 1\n",
    "\n",
    "# Debug: Total counts\n",
    "print(f\"Total PDFs with matching text files: {pdfs_with_matching_text_files}\")\n",
    "print(f\"Total PDFs without matching text files: {missing_text_files}\")\n",
    "\n",
    "# Create DataFrame\n",
    "df = pd.DataFrame(data)\n",
    "\n",
    "# Debug: Check DataFrame\n",
    "print(df)\n"
   ]
  },
  {
   "cell_type": "code",
   "execution_count": null,
   "metadata": {},
   "outputs": [],
   "source": []
  },
  {
   "cell_type": "code",
   "execution_count": 2,
   "metadata": {},
   "outputs": [],
   "source": [
    "output_json_path = r\"..\\output_data.json\"\n",
    "\n",
    "# Export DataFrame to JSON file\n",
    "df.to_json(output_json_path, orient='records', indent=4)"
   ]
  }
 ],
 "metadata": {
  "kernelspec": {
   "display_name": "Python 3",
   "language": "python",
   "name": "python3"
  },
  "language_info": {
   "codemirror_mode": {
    "name": "ipython",
    "version": 3
   },
   "file_extension": ".py",
   "mimetype": "text/x-python",
   "name": "python",
   "nbconvert_exporter": "python",
   "pygments_lexer": "ipython3",
   "version": "3.12.5"
  }
 },
 "nbformat": 4,
 "nbformat_minor": 2
}
